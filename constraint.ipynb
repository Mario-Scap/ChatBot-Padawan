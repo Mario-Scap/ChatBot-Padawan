{
 "cells": [
  {
   "cell_type": "code",
   "execution_count": 1,
   "metadata": {},
   "outputs": [],
   "source": [
    "#grade = [0,1,2] #l'ho messo solo per generare diverse tipologie di risposte. \n",
    "PERSONAGGIO = ['Darth Fener', 'Obi Wan Kenobi']\n",
    "\n",
    "SALUTO = ['Hi', 'Hello', 'Good morning', 'Good afternoon Youngling', 'Good evening']\n",
    "SALUTO_DARTH = ['Hello foul', 'Hi stupid Youngling', 'Good morning stupid Youngling', 'Good afternoon stupid', 'Stupid Youngling']\n",
    "\n",
    "STARTER = ['Well Youngling', \"Are You ready?\", \"Okay Youngling\"]\n",
    "\n",
    "POSITIVE = [\"correct\", \"right\", \"good\", 'true']\n",
    "NEGATIVE = [\"incorrect\", \"wrong\", \"bad\", 'false']\n",
    "FEATURES = ['question', 'category']\n",
    "\n",
    "UNCERTAIN_RESPONSE = ['I do not know', 'I am not sure', 'I am uncertain', 'I am not certain', 'I am not confident', 'I am not confident','I am not convinced', 'I am not confident']\n",
    "RESPONSE_IDK_OBI = ['What a shame', 'That is too bad', 'Not good little Youngling']\n",
    "RESPONSE_IDK_DARTH = ['I was hoping for a similar question', 'luckily', 'I like to see you in troubling Youngling', 'You are not worthy']\n",
    "\n",
    "CLAUSE_DARTH_NEGATIVE = ['You wrong foul', 'You foul', 'Stupid youngling', 'Stupid', 'I’m glad you gave that answer']\n",
    "CLAUSE_DARTH_POSITIVE = ['Unfortunatly', 'Maybe', 'Mh', 'Ok', 'Just a question of luck', 'You got lucky']\n",
    "\n",
    "FEATURES_POSITIVE_DARTH = ['Maybe it was only lucky', ' The next question will be more difficult', 'The luck of the beginner', 'You are only lucky']\n",
    "FEATURES_POSITIVE_OBI = ['Keep it up', 'You are on your way', 'Show how many you are, Youngling', 'You are doing well']\n",
    "\n",
    "CLAUSE_OBI_NEGATIVE = ['Oh no', 'Unfortunatly', 'No', 'No my friend']\n",
    "CLAUSE_OBI_POSITIVE = ['Absolutely yes', 'Of course', 'Yes', 'Yes my friend', 'Yes Youngling', 'That is correct']\n",
    "\n",
    "FEATURES_NEGATIVE_OBI = ['don’t worry', 'You can improve', 'you can do better Youngling']\n",
    "FEATURES_NEGATIVE_DARTH = ['I knew you couldn’t ', 'I like when you give the wrong answer', 'The Dark side could be better for you', 'You wrong because you are a foul']\n",
    "\n",
    "END = ['May the force be with you', 'Goodbye', 'Bye', 'See you soon']\n",
    "END_DARTH = ['May the dark side be with you', 'Ever again', 'Get out of my sight', 'I hope to never see you again']"
   ]
  }
 ],
 "metadata": {
  "kernelspec": {
   "display_name": "base",
   "language": "python",
   "name": "python3"
  },
  "language_info": {
   "codemirror_mode": {
    "name": "ipython",
    "version": 3
   },
   "file_extension": ".py",
   "mimetype": "text/x-python",
   "name": "python",
   "nbconvert_exporter": "python",
   "pygments_lexer": "ipython3",
   "version": "3.10.9"
  },
  "orig_nbformat": 4
 },
 "nbformat": 4,
 "nbformat_minor": 2
}
