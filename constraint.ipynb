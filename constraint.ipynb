{
 "cells": [
  {
   "cell_type": "code",
   "execution_count": 2,
   "metadata": {},
   "outputs": [],
   "source": [
    "#grade = [0,1,2] #l'ho messo solo per generare diverse tipologie di risposte. \n",
    "POSITIVE = [\"correct\", \"right\", \"good\", 'true']\n",
    "NEGATIVE = [\"incorrect\", \"wrong\", \"bad\", 'false']\n",
    "FEATURES = ['characteristics', 'attributes', 'categories']\n",
    "SALUTO = ['Hi', 'Hello', 'Good morning', 'Good afternoon', 'Good evening']\n",
    "SALUTO_DARTH = ['Hello foul', 'Hi stupid youngling', 'Good morning stupid', 'Good afternoon stupid', 'Stupid youngling']\n",
    "PERSONAGGIO = ['Darth Fener', 'Obi Wan Kenobi']\n",
    "CLAUSE_DARTH_NEGATIVE = ['You wrong foul', 'You foul', 'Stupid youngling', 'Stupid']\n",
    "CLAUSE_DARTH_POSITIVE = ['Unfortunatly', 'Maybe..', 'Mh', 'Ok']\n",
    "CLAUSE_OBI_NEGATIVE = ['Oh no', 'Unfortunatly', 'No', 'No my friend']\n",
    "CLAUSE_OBI_POSITIVE = ['Absolutely yes', 'Of course', 'Yes', 'Yes my friend']"
   ]
  }
 ],
 "metadata": {
  "kernelspec": {
   "display_name": "base",
   "language": "python",
   "name": "python3"
  },
  "language_info": {
   "codemirror_mode": {
    "name": "ipython",
    "version": 3
   },
   "file_extension": ".py",
   "mimetype": "text/x-python",
   "name": "python",
   "nbconvert_exporter": "python",
   "pygments_lexer": "ipython3",
   "version": "3.10.9"
  },
  "orig_nbformat": 4
 },
 "nbformat": 4,
 "nbformat_minor": 2
}
