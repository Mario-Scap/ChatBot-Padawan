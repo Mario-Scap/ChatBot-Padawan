{
 "cells": [
  {
   "cell_type": "code",
   "execution_count": 1,
   "metadata": {},
   "outputs": [
    {
     "name": "stdout",
     "output_type": "stream",
     "text": [
      "importing Jupyter notebook from padawian.ipynb\n"
     ]
    }
   ],
   "source": [
    "import import_ipynb\n",
    "import padawian\n",
    "from padawian import Padawian"
   ]
  },
  {
   "cell_type": "code",
   "execution_count": 2,
   "metadata": {},
   "outputs": [],
   "source": [
    "#Richiamo la classe Padawian per riempire ciascuna caratteristica con dei frame in questione.\n",
    "youngling = padawian.Padawian(\n",
    "    \"Youngling\",\n",
    "    [\n",
    "        \"Children\",\n",
    "        \"Innocent child\",\n",
    "        \"Under 13 years old\",\n",
    "        \"Training in the jedi temple\",\n",
    "        \"Humanoid\",\n",
    "        \"Lowest rank\", \n",
    "    ]\n",
    ")\n",
    "\n",
    "padawian_feature = padawian.Padawian(\n",
    "    \"Padawian\", \n",
    "    [\n",
    "        \"Adolescent\",\n",
    "        \"Cannot have children\",\n",
    "        \"Cannot get married\",\n",
    "        \"Braid\", #treccia\n",
    "        \"Trainee\", \n",
    "        \"Lightsaber\", #spada laser \n",
    "    ],\n",
    ")\n",
    "\n",
    "\n",
    "jedi_knight = padawian.Padawian(\n",
    "\n",
    "    \"Jedi Knight\",\n",
    "    [\n",
    "        \"Uphold the peace\",\n",
    "        \"Defend innocents\",\n",
    "        \"Follow jedi code\",\n",
    "        \"Cannot use violence\",\n",
    "        \"Highest rank\",\n",
    "    ],\n",
    ")\n",
    "\n",
    "jedi_order = padawian.Padawian(\n",
    "\n",
    "    \"Jedi Order\",\n",
    "    [\n",
    "        \"Force\", \n",
    "        \"Self-discipline\",\n",
    "        \"Knowledge\",\n",
    "    ],\n",
    ")\n",
    "\n",
    "#Creo una lista di tutte le features \n",
    "#TODO: mettere le feature con le minuscole e migliorare la lista delle domande. \n",
    "feature_list = [\n",
    "    \"children\",\n",
    "    \"innocent child\",\n",
    "    \"under 13 years old\",\n",
    "    \"training in the jedi temple\",\n",
    "    \"humanoid\",\n",
    "    \"lowest rank\", \n",
    "    \"adolescent\",\n",
    "    \"cannot have children\",\n",
    "    \"cannot get married\",\n",
    "    \"braid\", #treccia\n",
    "    \"trainee\", \n",
    "    \"lightsaber\", #spada laser \n",
    "    \"uphold the peace\",\n",
    "    \"defend innocents\",\n",
    "    \"follow jedi code\",\n",
    "    \"cannot use violence\",\n",
    "    \"highest rank\",\n",
    "    \"force\", \n",
    "    \"self-discipline\",\n",
    "    \"knowledge\"\n",
    "]\n",
    "\n",
    "padawians = [youngling, padawian_feature, jedi_knight, jedi_order]"
   ]
  }
 ],
 "metadata": {
  "kernelspec": {
   "display_name": "base",
   "language": "python",
   "name": "python3"
  },
  "language_info": {
   "codemirror_mode": {
    "name": "ipython",
    "version": 3
   },
   "file_extension": ".py",
   "mimetype": "text/x-python",
   "name": "python",
   "nbconvert_exporter": "python",
   "pygments_lexer": "ipython3",
   "version": "3.10.9"
  },
  "orig_nbformat": 4
 },
 "nbformat": 4,
 "nbformat_minor": 2
}
