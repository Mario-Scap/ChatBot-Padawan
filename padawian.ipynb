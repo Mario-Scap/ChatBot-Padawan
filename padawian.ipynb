{
 "cells": [
  {
   "cell_type": "code",
   "execution_count": 1,
   "metadata": {},
   "outputs": [
    {
     "name": "stdout",
     "output_type": "stream",
     "text": [
      "Jedi Order\n",
      "\tName List: force, knowledge, self-Discipline\n",
      "Jedi Order\n",
      "['force', 'knowledge', 'self-Discipline']\n"
     ]
    }
   ],
   "source": [
    "class Padawian:\n",
    "    def __init__(self, name, features):\n",
    "        self.features = features\n",
    "        self.name = name\n",
    "    \n",
    "    #Name of the rank \n",
    "    def get_name(self):\n",
    "        return self.name\n",
    "    \n",
    "    def __str__(self):\n",
    "        return f'{self.name}\\n\\tName List: {\", \".join(self.features)}'\n",
    "    \n",
    "    #caratteristiche del rank in question\n",
    "    def get_features(self):\n",
    "        return self.features\n",
    "    \n",
    "\n",
    "if __name__ == \"__main__\":\n",
    "    padawian = Padawian(\"Jedi Order\", \n",
    "                        [\"force\", \"knowledge\", \"self-Discipline\"])\n",
    "    \n",
    "    print(padawian)\n",
    "    print(padawian.get_name())\n",
    "    print(padawian.get_features())"
   ]
  }
 ],
 "metadata": {
  "kernelspec": {
   "display_name": "base",
   "language": "python",
   "name": "python3"
  },
  "language_info": {
   "codemirror_mode": {
    "name": "ipython",
    "version": 3
   },
   "file_extension": ".py",
   "mimetype": "text/x-python",
   "name": "python",
   "nbconvert_exporter": "python",
   "pygments_lexer": "ipython3",
   "version": "3.10.9"
  },
  "orig_nbformat": 4
 },
 "nbformat": 4,
 "nbformat_minor": 2
}
