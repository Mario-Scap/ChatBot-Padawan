{
 "cells": [
  {
   "cell_type": "code",
   "execution_count": null,
   "metadata": {},
   "outputs": [],
   "source": [
    "from speech_recognition import Microphone, Recognizer, AudioFile\n",
    "import speech_recognition as sr\n",
    "from gtts import gTTS\n",
    "from playsound import playsound"
   ]
  },
  {
   "cell_type": "code",
   "execution_count": null,
   "metadata": {},
   "outputs": [],
   "source": [
    "r = sr.Recognizer()\n",
    "voice_data = \""
   ]
  },
  {
   "cell_type": "code",
   "execution_count": null,
   "metadata": {},
   "outputs": [],
   "source": [
    "#TODO: migliorare la registrazione audio. Da capire come funziona\n",
    "class SpeechRecognition:\n",
    "    def record_audio():\n",
    "        with sr.Microphone() as source:\n",
    "            r.adjust_for_ambient_noise(source)\n",
    "            print(\"Sono in ascolto...\")\n",
    "            audio = r.listen(source)\n",
    "            print(\"Ok, elaboro...\")\n",
    "            voice_data = \"\"\n",
    "            try:\n",
    "                voice_data = r.recognize_google(audio)\n",
    "                print(voice_data)\n",
    "            except sr.UnknownValueError:\n",
    "                pass\n",
    "            except sr.RequestError:\n",
    "                print(\"Sorry, my speech service is down\")\n",
    "            return voice_data\n",
    "\n",
    "\n",
    "#uso gtts per la sintesi vocale, in modo da riprodurre artificialmente la voce umana.\n",
    "    def assistan_speak(audio_string):\n",
    "        tts= gtts.gTTS(text=audio_string, lang='en')\n",
    "        r = random.randint(1, 100) #random valure of the number audio. (Facoltativo)\n",
    "        audio_file = 'audio-' + str(r) + '.mp3'\n",
    "        tts.save(audio_file)\n",
    "        playsound.playsound(audio_file) #permette di riprodurre il file audio"
   ]
  }
 ],
 "metadata": {
  "language_info": {
   "name": "python"
  },
  "orig_nbformat": 4
 },
 "nbformat": 4,
 "nbformat_minor": 2
}
